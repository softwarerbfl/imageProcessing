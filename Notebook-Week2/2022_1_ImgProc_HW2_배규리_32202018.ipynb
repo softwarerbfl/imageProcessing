{
  "nbformat": 4,
  "nbformat_minor": 0,
  "metadata": {
    "colab": {
      "name": "2022-1-ImgProc-HW2-배규리-32202018.ipynb",
      "provenance": [],
      "collapsed_sections": [],
      "include_colab_link": true
    },
    "kernelspec": {
      "name": "python3",
      "display_name": "Python 3"
    }
  },
  "cells": [
    {
      "cell_type": "markdown",
      "metadata": {
        "id": "view-in-github",
        "colab_type": "text"
      },
      "source": [
        "<a href=\"https://colab.research.google.com/github/softwarerbfl/imageProcessing/blob/main/Notebook-Week2/2022_1_ImgProc_HW2_%EB%B0%B0%EA%B7%9C%EB%A6%AC_32202018.ipynb\" target=\"_parent\"><img src=\"https://colab.research.google.com/assets/colab-badge.svg\" alt=\"Open In Colab\"/></a>"
      ]
    },
    {
      "cell_type": "markdown",
      "metadata": {
        "id": "HftEIz01ALMn"
      },
      "source": [
        "### 2022-1 영상정보처리 2주차 과제\n",
        "### - 마감: 3월 16일 11시 59분\n",
        "\n",
        "<br>\n",
        "다음의 셀에 구글 드라이브를 마운트하기 위한 명령어를 삽입하고 수행하시오"
      ]
    },
    {
      "cell_type": "code",
      "metadata": {
        "id": "EW-64iXn6jnS",
        "colab": {
          "base_uri": "https://localhost:8080/"
        },
        "outputId": "0e2f5832-9f44-47a1-c00e-0003ced19055"
      },
      "source": [
        "from google.colab import drive\n",
        "drive.mount(\"/gdrive\")"
      ],
      "execution_count": null,
      "outputs": [
        {
          "output_type": "stream",
          "name": "stdout",
          "text": [
            "Mounted at /gdrive\n"
          ]
        }
      ]
    },
    {
      "cell_type": "markdown",
      "metadata": {
        "id": "gwGtj7vJAVmD"
      },
      "source": [
        "다음의 셀에 현재 폴더 위치를 표시하는 명령어를 삽입하고 수행하시오"
      ]
    },
    {
      "cell_type": "code",
      "metadata": {
        "id": "B4g0Xt0F8dx9",
        "colab": {
          "base_uri": "https://localhost:8080/"
        },
        "outputId": "eb485826-d488-4d16-8058-dbf1e48e283a"
      },
      "source": [
        "!pwd"
      ],
      "execution_count": null,
      "outputs": [
        {
          "output_type": "stream",
          "name": "stdout",
          "text": [
            "/content\n"
          ]
        }
      ]
    },
    {
      "cell_type": "markdown",
      "metadata": {
        "id": "itA2Z49yAfu7"
      },
      "source": [
        "다음의 셀에 템플리트 노트북 있는 폴더로 이동하고 해당 폴더에 속하는 파일/폴더를 보이는 명령어를 삽입하고 수행하시오."
      ]
    },
    {
      "cell_type": "code",
      "metadata": {
        "id": "aDHBzonp8ow5",
        "colab": {
          "base_uri": "https://localhost:8080/"
        },
        "outputId": "5e59f647-376a-4ce0-f5c3-9a08299ab2ca"
      },
      "source": [
        "%cd /gdrive/My\\ Drive/Colab\\ Notebooks/2022_영상정보처리/Notebook-Week\\ 2\n",
        "%ls"
      ],
      "execution_count": null,
      "outputs": [
        {
          "output_type": "stream",
          "name": "stdout",
          "text": [
            "/gdrive/My Drive/Colab Notebooks/2022_영상정보처리/Notebook-Week 2\n",
            "2022-1-ImgProc-HW2-배규리-32202018.ipynb  imageProcess220311.ipynb\n",
            "imageProcess220310.ipynb\n"
          ]
        }
      ]
    },
    {
      "cell_type": "markdown",
      "metadata": {
        "id": "YHpkvasyA2zM"
      },
      "source": [
        "다음의 셀에 현재 폴더의 부모 폴더의 내용을 보여주는 명령어를 삽입하고 수행하시오. 보여지는 폴더에서 \"Dongkeun-OpenCV-ImgData\" 폴더가 없으면 드롭박스에서 해당 폴더를 다운로드하여 저장한 다음, 해당 폴더가 보일 때까지 수정하시오."
      ]
    },
    {
      "cell_type": "code",
      "metadata": {
        "id": "cz65LNkXBa8K",
        "colab": {
          "base_uri": "https://localhost:8080/"
        },
        "outputId": "0bae1091-f75c-44b0-9b42-d6d640e1a1bc"
      },
      "source": [
        "%ls ../"
      ],
      "execution_count": null,
      "outputs": [
        {
          "output_type": "stream",
          "name": "stdout",
          "text": [
            " \u001b[0m\u001b[01;34mDongkeun-OpenCV-ImgData\u001b[0m/  \u001b[01;34m'Notebook-Week 2'\u001b[0m/\n"
          ]
        }
      ]
    },
    {
      "cell_type": "markdown",
      "metadata": {
        "id": "_xGCnaExBbrH"
      },
      "source": [
        "다음의 셀에 matplotlib.pyplot, cm, cv2 를 임포트하는 파이썬 코드를 삽입하시오.\n",
        "\n",
        "이 다음 부터는 셀에 파이썬 코드를 삽입하면 수행하는 것은 자연스런 절차이므로 수행하라는 지시를 생략합니다."
      ]
    },
    {
      "cell_type": "code",
      "metadata": {
        "id": "aCs273aRBn7m"
      },
      "source": [
        "import cv2\n",
        "import matplotlib.pyplot as pyplot\n",
        "import matplotlib.cm as cm"
      ],
      "execution_count": null,
      "outputs": []
    },
    {
      "cell_type": "markdown",
      "metadata": {
        "id": "5FIya0D_BrSl"
      },
      "source": [
        "다음의 셀에 위에서 확인한 이미지 데이터 폴더(\"../Dongkeun-OpenCV-ImgData\")에 들어 있는 logo.png 파일을 읽고, type, size, dtype 를 출력하는 파이썬 코드를 삽입하시오."
      ]
    },
    {
      "cell_type": "code",
      "metadata": {
        "id": "hEmfghz_93Jn",
        "outputId": "1fbd1d8f-b57a-48fe-fb9b-72f96baf3850",
        "colab": {
          "base_uri": "https://localhost:8080/"
        }
      },
      "source": [
        "img = cv2.imread(\"../Dongkeun-OpenCV-ImgData/opencv_logo.png\")\n",
        "print(\"type = \", type(img))\n",
        "print(\"size = \", img.size)\n",
        "print(\"dtype = \", img.dtype)"
      ],
      "execution_count": null,
      "outputs": [
        {
          "output_type": "stream",
          "name": "stdout",
          "text": [
            "type =  <class 'numpy.ndarray'>\n",
            "size =  102684\n",
            "dtype =  uint8\n"
          ]
        }
      ]
    },
    {
      "cell_type": "markdown",
      "metadata": {
        "id": "hlYeq3DLB8J3"
      },
      "source": [
        "다음의 셀이 입력된 이미지를 출력하는 파이썬 코드를 삽입하시오."
      ]
    },
    {
      "cell_type": "code",
      "metadata": {
        "id": "ICOP-YZiCWUN",
        "outputId": "45061355-fceb-4d9c-fbc3-c56b6d668d0b",
        "colab": {
          "base_uri": "https://localhost:8080/",
          "height": 269
        }
      },
      "source": [
        "pyplot.imshow(img)\n",
        "pyplot.show()"
      ],
      "execution_count": null,
      "outputs": [
        {
          "output_type": "display_data",
          "data": {
            "image/png": "[encoded data removed]",
            "text/plain": [
              "<Figure size 432x288 with 1 Axes>"
            ]
          },
          "metadata": {
            "needs_background": "light"
          }
        }
      ]
    }
  ]
}