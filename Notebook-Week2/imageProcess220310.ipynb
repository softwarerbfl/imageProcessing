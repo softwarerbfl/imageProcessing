{
  "nbformat": 4,
  "nbformat_minor": 0,
  "metadata": {
    "colab": {
      "name": "imageProcess220310.ipynb",
      "provenance": [],
      "collapsed_sections": [],
      "mount_file_id": "1NvvSY0zlpJ04hQ0tfFgYJHMEB4qUzqkr",
      "authorship_tag": "ABX9TyPouHHVrnFBl8VLGMrlrjhU",
      "include_colab_link": true
    },
    "kernelspec": {
      "name": "python3",
      "display_name": "Python 3"
    },
    "language_info": {
      "name": "python"
    }
  },
  "cells": [
    {
      "cell_type": "markdown",
      "metadata": {
        "id": "view-in-github",
        "colab_type": "text"
      },
      "source": [
        "<a href=\"https://colab.research.google.com/github/softwarerbfl/imageProcessing/blob/main/Notebook-Week2/imageProcess220310.ipynb\" target=\"_parent\"><img src=\"https://colab.research.google.com/assets/colab-badge.svg\" alt=\"Open In Colab\"/></a>"
      ]
    },
    {
      "cell_type": "code",
      "source": [
        "from google.colab import drive\n",
        "#새로운 것을 새로 갖다 붙히는 것 = mount\n",
        "drive.mount(\"/gdrive\")"
      ],
      "metadata": {
        "colab": {
          "base_uri": "https://localhost:8080/"
        },
        "id": "byxRQFHGOJq1",
        "outputId": "b8c43785-a2ec-486c-e8ef-557328076522"
      },
      "execution_count": null,
      "outputs": [
        {
          "output_type": "stream",
          "name": "stdout",
          "text": [
            "Mounted at /gdrive\n"
          ]
        }
      ]
    },
    {
      "cell_type": "code",
      "source": [
        "!pwd"
      ],
      "metadata": {
        "colab": {
          "base_uri": "https://localhost:8080/"
        },
        "id": "sL0fs-r-OWA9",
        "outputId": "459cd2bf-93f4-4e63-ac7d-0f9ff92422df"
      },
      "execution_count": null,
      "outputs": [
        {
          "output_type": "stream",
          "name": "stdout",
          "text": [
            "/content\n"
          ]
        }
      ]
    },
    {
      "cell_type": "code",
      "source": [
        "%cd /gdrive/My\\ Drive/Colab\\ Notebooks/2022_영상정보처리/Notebook-Week\\ 2"
      ],
      "metadata": {
        "colab": {
          "base_uri": "https://localhost:8080/"
        },
        "id": "RU_mF0OcOd5o",
        "outputId": "af7562d6-a8e6-4b06-de17-5cc4c3fb0549"
      },
      "execution_count": null,
      "outputs": [
        {
          "output_type": "stream",
          "name": "stdout",
          "text": [
            "/gdrive/My Drive/Colab Notebooks/2022_영상정보처리/Notebook-Week 2\n"
          ]
        }
      ]
    },
    {
      "cell_type": "code",
      "source": [
        "%ls"
      ],
      "metadata": {
        "colab": {
          "base_uri": "https://localhost:8080/"
        },
        "id": "h7GOAkgEOh-G",
        "outputId": "0e2a5b0b-3f1a-4816-a943-8b885b29bd7a"
      },
      "execution_count": null,
      "outputs": [
        {
          "output_type": "stream",
          "name": "stdout",
          "text": [
            "Untitled0.ipynb  Untitled1.ipynb\n"
          ]
        }
      ]
    },
    {
      "cell_type": "code",
      "execution_count": null,
      "metadata": {
        "id": "-xZxnd5OEonb"
      },
      "outputs": [],
      "source": [
        "import cv2\n",
        "import matplotlib.pyplot as pyplot\n",
        "import matplotlib.cm as cm"
      ]
    },
    {
      "cell_type": "code",
      "source": [
        "img = cv2.imread(\"../Dongkeun-OpenCV-ImgData/opencv_logo.png\")"
      ],
      "metadata": {
        "id": "wpKTyh-SLrqY"
      },
      "execution_count": null,
      "outputs": []
    },
    {
      "cell_type": "code",
      "source": [
        "print(type(img))\n",
        "print(img.size)"
      ],
      "metadata": {
        "colab": {
          "base_uri": "https://localhost:8080/"
        },
        "id": "eZ3BJCh-Mfsz",
        "outputId": "7564b7ca-5cfa-4619-8410-ba86768bd2ac"
      },
      "execution_count": null,
      "outputs": [
        {
          "output_type": "stream",
          "name": "stdout",
          "text": [
            "<class 'numpy.ndarray'>\n",
            "102684\n"
          ]
        }
      ]
    },
    {
      "cell_type": "code",
      "source": [
        "pyplot.imshow(img) #사진에 나타나는 숫자의 단위는 픽셀\n",
        "pyplot.show()"
      ],
      "metadata": {
        "colab": {
          "base_uri": "https://localhost:8080/",
          "height": 269
        },
        "id": "-uvWYDjyPrSb",
        "outputId": "c55a6bf3-8f12-4efe-a276-adbfed9d196b"
      },
      "execution_count": null,
      "outputs": [
        {
          "output_type": "display_data",
          "data": {
            "image/png": "[encoded data removed]",
            "text/plain": [
              "<Figure size 432x288 with 1 Axes>"
            ]
          },
          "metadata": {
            "needs_background": "light"
          }
        }
      ]
    },
    {
      "cell_type": "code",
      "source": [
        "(b,g,r)=img[140,25]\n",
        "print(b,g,r)"
      ],
      "metadata": {
        "colab": {
          "base_uri": "https://localhost:8080/"
        },
        "id": "wfHnKqnhQCH8",
        "outputId": "5a8be885-7aa3-4757-874b-7c15d00d4104"
      },
      "execution_count": null,
      "outputs": [
        {
          "output_type": "stream",
          "name": "stdout",
          "text": [
            "0 255 0\n"
          ]
        }
      ]
    },
    {
      "cell_type": "code",
      "source": [
        "#이미지의 일부분 추출\n",
        "top_left_corner=img[0:50,75:125]\n",
        "pyplot.imshow(top_left_corner)\n",
        "pyplot.show()"
      ],
      "metadata": {
        "colab": {
          "base_uri": "https://localhost:8080/",
          "height": 267
        },
        "id": "4y5_Ri1uQXWt",
        "outputId": "1859dd15-ea9a-4702-f669-99089aab8a71"
      },
      "execution_count": null,
      "outputs": [
        {
          "output_type": "display_data",
          "data": {
            "image/png": "[encoded data removed]",
            "text/plain": [
              "<Figure size 432x288 with 1 Axes>"
            ]
          },
          "metadata": {
            "needs_background": "light"
          }
        }
      ]
    },
    {
      "cell_type": "markdown",
      "source": [
        "Q. 위에서 img[6,40]=(0,0,255)즉 y=6, x=40에 있는 픽셀에 레드(0,0,5)로 변경을 "
      ],
      "metadata": {
        "id": "azlBRBprQtaJ"
      }
    }
  ]
}