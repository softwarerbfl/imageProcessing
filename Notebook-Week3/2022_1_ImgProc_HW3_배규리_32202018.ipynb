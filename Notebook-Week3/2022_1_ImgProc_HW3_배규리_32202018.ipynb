{
  "nbformat": 4,
  "nbformat_minor": 0,
  "metadata": {
    "colab": {
      "name": "2022-1-ImgProc-HW3-배규리-32202018.ipynb",
      "provenance": [],
      "collapsed_sections": [],
      "include_colab_link": true
    },
    "kernelspec": {
      "name": "python3",
      "display_name": "Python 3"
    }
  },
  "cells": [
    {
      "cell_type": "markdown",
      "metadata": {
        "id": "view-in-github",
        "colab_type": "text"
      },
      "source": [
        "<a href=\"https://colab.research.google.com/github/softwarerbfl/imageProcessing/blob/main/Notebook-Week3/2022_1_ImgProc_HW3_%EB%B0%B0%EA%B7%9C%EB%A6%AC_32202018.ipynb\" target=\"_parent\"><img src=\"https://colab.research.google.com/assets/colab-badge.svg\" alt=\"Open In Colab\"/></a>"
      ]
    },
    {
      "cell_type": "markdown",
      "metadata": {
        "id": "fR2r9QkEJsl6"
      },
      "source": [
        "## 2022-1 영상정보처리 3주차 과제 템플리트\n",
        "마감: 2021년 3월 23일 오후 11시 59분\n",
        "\n",
        "이름: 배규리           \n",
        "학번: 32202018"
      ]
    },
    {
      "cell_type": "markdown",
      "metadata": {
        "id": "bjiTmr40Kvj0"
      },
      "source": [
        "구글 드라이브를 연결하고 자신의 노트북이 저장되어 있는 폴더로 이동하시오"
      ]
    },
    {
      "cell_type": "code",
      "metadata": {
        "id": "EW-64iXn6jnS",
        "colab": {
          "base_uri": "https://localhost:8080/",
          "height": 0
        },
        "outputId": "6e091d62-76f4-4d5b-f8c8-aae46ababd66"
      },
      "source": [
        "from google.colab import drive \n",
        "drive.mount('/gdrive')"
      ],
      "execution_count": 66,
      "outputs": [
        {
          "output_type": "stream",
          "name": "stdout",
          "text": [
            "Drive already mounted at /gdrive; to attempt to forcibly remount, call drive.mount(\"/gdrive\", force_remount=True).\n"
          ]
        }
      ]
    },
    {
      "cell_type": "code",
      "source": [
        "%cd /gdrive/My\\ Drive/Colab\\ Notebooks/2022_영상정보처리/Notebook-Week\\ 3"
      ],
      "metadata": {
        "colab": {
          "base_uri": "https://localhost:8080/",
          "height": 0
        },
        "id": "AaRr1aCFLLWU",
        "outputId": "831a4f39-73de-4c1a-bb20-26e5c55b59ac"
      },
      "execution_count": 67,
      "outputs": [
        {
          "output_type": "stream",
          "name": "stdout",
          "text": [
            "/gdrive/My Drive/Colab Notebooks/2022_영상정보처리/Notebook-Week 3\n"
          ]
        }
      ]
    },
    {
      "cell_type": "markdown",
      "metadata": {
        "id": "PcPtNHOKLGYO"
      },
      "source": [
        "다음에 이미지 경로 '../Dongkeun-OpenCV-ImgData/logo.png' 를 변경하지 말고 이미지를 읽고, 해당 이미지에 대한 type, size, dtype 등의 속성을 체크하시오. "
      ]
    },
    {
      "cell_type": "code",
      "source": [
        "import cv2\n",
        "import matplotlib.pyplot as pyplot\n",
        "import matplotlib.cm as cm\n",
        "img=cv2.imread(\"../Dongkeun-OpenCV-ImgData/logo.png\")\n",
        "print(\"type = \", type(img))\n",
        "print(\"size = \", img.size)\n",
        "print(\"dtype = \", img.dtype)"
      ],
      "metadata": {
        "colab": {
          "base_uri": "https://localhost:8080/",
          "height": 0
        },
        "id": "_34b6UtTHE45",
        "outputId": "9c721927-a7ad-4842-952d-63d2f2a22886"
      },
      "execution_count": 71,
      "outputs": [
        {
          "output_type": "stream",
          "name": "stdout",
          "text": [
            "type =  <class 'numpy.ndarray'>\n",
            "size =  102684\n",
            "dtype =  uint8\n"
          ]
        }
      ]
    },
    {
      "cell_type": "markdown",
      "metadata": {
        "id": "_7beYkp0LXD8"
      },
      "source": [
        "다음의 셀에 읽은 이미지에서 좌표 y = 100, x = 50 에 있는 화소의 각 색요소 값을 한번에 읽어 출력하시오. 또한 각 색요소의 값을 별도로 가져오는 예를 작성하시오."
      ]
    },
    {
      "cell_type": "code",
      "metadata": {
        "id": "SYmgFzE8BCj2",
        "colab": {
          "base_uri": "https://localhost:8080/",
          "height": 0
        },
        "outputId": "7b4da32f-b717-4ec9-fc7f-bffc85599049"
      },
      "source": [
        "print(img[100,50]) #y=100. x=50에 있는 화소의 각 색요소의 값을 한 번에 출력 \n",
        "(b,g,r)=img[100,50] #각 색요소의 값을 별도로 가져옴\n",
        "print(b,g,r)"
      ],
      "execution_count": 72,
      "outputs": [
        {
          "output_type": "stream",
          "name": "stdout",
          "text": [
            "[  0 255   0]\n",
            "0 255 0\n"
          ]
        }
      ]
    },
    {
      "cell_type": "markdown",
      "metadata": {
        "id": "XSQl0I7rMTzD"
      },
      "source": [
        "다음의 셀에 읽은 이미지에서 좌표 y = 100, x = 50 의 화소를 순수 녹색(green) 으로 세팅하는 코드를 작성하고 해당 분야를 ROI 를 이용해 확대해서 출력하시오. "
      ]
    },
    {
      "cell_type": "code",
      "metadata": {
        "id": "ZNzqziflL-ex",
        "colab": {
          "base_uri": "https://localhost:8080/",
          "height": 265
        },
        "outputId": "a5a9d574-074f-45c4-fecd-dc4f437a0108"
      },
      "source": [
        "img[100,50]=(0,255,0) #녹색으로 세팅\n",
        "pyplot.imshow(img[90:110,40:60]) #ROI\n",
        "pyplot.show()"
      ],
      "execution_count": 73,
      "outputs": [
        {
          "output_type": "display_data",
          "data": {
            "text/plain": [
              "<Figure size 432x288 with 1 Axes>"
            ],
            "image/png": "[encoded data removed]"
          },
          "metadata": {
            "needs_background": "light"
          }
        }
      ]
    },
    {
      "cell_type": "markdown",
      "metadata": {
        "id": "yyNPkeP7CKHp"
      },
      "source": [
        "## Accessing and Manipulating pixels in opencv with grayscale images\n",
        "\n",
        "위에서 사용한 동일 입력 이미지를 읽어서 matplotlib.pyplot에 맞는 채널 순서로 변환하고 본래 이미지와 변환된 이미지를 matplotlib.pyplot 을 이용하여 출력하시오. \n"
      ]
    },
    {
      "cell_type": "code",
      "metadata": {
        "id": "3HfuEEr8NPDD",
        "colab": {
          "base_uri": "https://localhost:8080/",
          "height": 183
        },
        "outputId": "1c020bb6-b6bd-47cb-c0a8-73ebc79d7533"
      },
      "source": [
        "img=cv2.imread(\"../Dongkeun-OpenCV-ImgData/logo.png\")\n",
        "B,G,R=cv2.split(img)\n",
        "img_matplotlib = cv2.merge([R,G,B])\n",
        "#기존의 cv2로 읽은 이미지 \n",
        "pyplot.subplot(121)\n",
        "pyplot.imshow(img)\n",
        "#matplotlib에 맞추어 채널 순서를 변환한 이미지\n",
        "pyplot.subplot(122)\n",
        "pyplot.imshow(img_matplotlib)\n",
        "pyplot.show()"
      ],
      "execution_count": 74,
      "outputs": [
        {
          "output_type": "display_data",
          "data": {
            "text/plain": [
              "<Figure size 432x288 with 2 Axes>"
            ],
            "image/png": "[encoded data removed]"
          },
          "metadata": {
            "needs_background": "light"
          }
        }
      ]
    },
    {
      "cell_type": "markdown",
      "metadata": {
        "id": "FP-h2nFAq81u"
      },
      "source": [
        "## In Depth Example\n",
        "강의노트 'In Depth' 부분에 있는 예제를 임의의 값을 이용하여 예시하고 간단한 설명을 붙여 자기 노트를 완성하시오. "
      ]
    },
    {
      "cell_type": "code",
      "metadata": {
        "id": "Mn_2aRhQNPpt",
        "colab": {
          "base_uri": "https://localhost:8080/",
          "height": 0
        },
        "outputId": "d5d4492c-3e1d-4930-878f-5c5f8f4f0405"
      },
      "source": [
        "import numpy as np\n",
        "#3차원 배열 \n",
        "x=np.array([[[0,1],\n",
        "            [2,3]],\n",
        "           [[4,5],\n",
        "            [6,7]]])\n",
        "print(x[0,:,::-1])"
      ],
      "execution_count": 75,
      "outputs": [
        {
          "output_type": "stream",
          "name": "stdout",
          "text": [
            "[[1 0]\n",
            " [3 2]]\n"
          ]
        }
      ]
    },
    {
      "cell_type": "code",
      "source": [
        "#0D 배열\n",
        "print(np.array(8))\n",
        "#1D 배열 \n",
        "print(np.array([2.3, 0.1, -9.1]))\n",
        "#3*2형태의 2D 배열  \n",
        "print(np.array([[93,95],\n",
        "                [84,100],\n",
        "                [99,87]\n",
        "                ]))\n",
        "#2*2*2형태의 3D 배열\n",
        "print(np.array([[[0,1],\n",
        "                 [2,3]],\n",
        "                \n",
        "                [[4,5],\n",
        "                 [6,7]]\n",
        "                ]))"
      ],
      "metadata": {
        "colab": {
          "base_uri": "https://localhost:8080/",
          "height": 0
        },
        "id": "zPCcDgbtWuMN",
        "outputId": "6e42a457-aad5-437d-f198-20ea1dcba685"
      },
      "execution_count": 76,
      "outputs": [
        {
          "output_type": "stream",
          "name": "stdout",
          "text": [
            "8\n",
            "[ 2.3  0.1 -9.1]\n",
            "[[ 93  95]\n",
            " [ 84 100]\n",
            " [ 99  87]]\n",
            "[[[0 1]\n",
            "  [2 3]]\n",
            "\n",
            " [[4 5]\n",
            "  [6 7]]]\n"
          ]
        }
      ]
    },
    {
      "cell_type": "code",
      "source": [
        "simple_array=np.array([2.3, 0.1, -9.1])\n",
        "print(simple_array[0])\n",
        "print(simple_array[-2])\n",
        "print(simple_array[1:3])\n",
        "#print(simple_array[3]) -> 인덱스 범위 초과 "
      ],
      "metadata": {
        "colab": {
          "base_uri": "https://localhost:8080/",
          "height": 0
        },
        "id": "R-rbpRbnXnJd",
        "outputId": "f8126774-e404-483d-8d0e-ee831c4dec97"
      },
      "execution_count": 77,
      "outputs": [
        {
          "output_type": "stream",
          "name": "stdout",
          "text": [
            "2.3\n",
            "0.1\n",
            "[ 0.1 -9.1]\n"
          ]
        }
      ]
    },
    {
      "cell_type": "code",
      "source": [
        "grades1=np.array([93,95,84,100,99,87])\n",
        "#3*2형태의 2D 배열 선언 \n",
        "grades2=np.array([[93,95],\n",
        "                  [84,100],\n",
        "                  [99,87]\n",
        "                  ])\n",
        "print(grades1.shape)\n",
        "print()\n",
        "print(grades2.shape) "
      ],
      "metadata": {
        "colab": {
          "base_uri": "https://localhost:8080/",
          "height": 0
        },
        "id": "WuGONcAHYfOU",
        "outputId": "802ff673-f313-4c32-9e33-2eea1a99edca"
      },
      "execution_count": 78,
      "outputs": [
        {
          "output_type": "stream",
          "name": "stdout",
          "text": [
            "(6,)\n",
            "\n",
            "(3, 2)\n"
          ]
        }
      ]
    },
    {
      "cell_type": "code",
      "source": [
        "print(grades2[1,0])\n",
        "print()\n",
        "print(grades2[-2,0])"
      ],
      "metadata": {
        "colab": {
          "base_uri": "https://localhost:8080/",
          "height": 0
        },
        "id": "EXxxR0lMY8NP",
        "outputId": "f2a2a0ec-fe1e-48af-8f68-23ebec9ddc17"
      },
      "execution_count": 79,
      "outputs": [
        {
          "output_type": "stream",
          "name": "stdout",
          "text": [
            "84\n",
            "\n",
            "84\n"
          ]
        }
      ]
    }
  ]
}