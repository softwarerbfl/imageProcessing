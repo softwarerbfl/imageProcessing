{
  "nbformat": 4,
  "nbformat_minor": 0,
  "metadata": {
    "colab": {
      "name": "imageProcess220318.ipynb",
      "provenance": [],
      "collapsed_sections": [],
      "authorship_tag": "ABX9TyPlTx+Ma5t/n3kqcKNQgxA+",
      "include_colab_link": true
    },
    "kernelspec": {
      "name": "python3",
      "display_name": "Python 3"
    },
    "language_info": {
      "name": "python"
    }
  },
  "cells": [
    {
      "cell_type": "markdown",
      "metadata": {
        "id": "view-in-github",
        "colab_type": "text"
      },
      "source": [
        "<a href=\"https://colab.research.google.com/github/softwarerbfl/imageProcessing/blob/main/Notebook-Week3/imageProcess220318.ipynb\" target=\"_parent\"><img src=\"https://colab.research.google.com/assets/colab-badge.svg\" alt=\"Open In Colab\"/></a>"
      ]
    },
    {
      "cell_type": "code",
      "execution_count": null,
      "metadata": {
        "colab": {
          "base_uri": "https://localhost:8080/"
        },
        "id": "0Gsv25bsLrI_",
        "outputId": "9780fd2c-9823-44ce-aecf-86104ab82e08"
      },
      "outputs": [
        {
          "output_type": "stream",
          "name": "stdout",
          "text": [
            "Mounted at /gdrive\n"
          ]
        }
      ],
      "source": [
        "from google.colab import drive\n",
        "drive.mount(\"/gdrive\")"
      ]
    },
    {
      "cell_type": "code",
      "source": [
        "import numpy as np\n",
        "a=np.array([1,2,3]) #파이썬의 배열을 numpy의 array객체로 변환시켜줌\n",
        "print(a)\n",
        "print(type(a))"
      ],
      "metadata": {
        "colab": {
          "base_uri": "https://localhost:8080/"
        },
        "id": "IcdkIrZ1MDKd",
        "outputId": "89049884-2629-4647-ad36-2bf8978411ab"
      },
      "execution_count": null,
      "outputs": [
        {
          "output_type": "stream",
          "name": "stdout",
          "text": [
            "[1 2 3]\n",
            "<class 'numpy.ndarray'>\n"
          ]
        }
      ]
    },
    {
      "cell_type": "markdown",
      "source": [
        "numpy.zeros()"
      ],
      "metadata": {
        "id": "Rny7yAIGNB2-"
      }
    },
    {
      "cell_type": "code",
      "source": [
        "np.zeros(2) #원하는 개수만큼 0.0(실수임에 주의!)으로 채워 array를 만들어준다"
      ],
      "metadata": {
        "colab": {
          "base_uri": "https://localhost:8080/"
        },
        "id": "rjZ0x9NfMTie",
        "outputId": "3ce3c11d-ba90-43db-caee-d6e8f9270db4"
      },
      "execution_count": null,
      "outputs": [
        {
          "output_type": "execute_result",
          "data": {
            "text/plain": [
              "array([0., 0.])"
            ]
          },
          "metadata": {},
          "execution_count": 4
        }
      ]
    },
    {
      "cell_type": "code",
      "source": [
        "b=np.zeros(5)\n",
        "print(b)\n",
        "print(type(b))"
      ],
      "metadata": {
        "colab": {
          "base_uri": "https://localhost:8080/"
        },
        "id": "avAwnDb7MxQ_",
        "outputId": "524aa854-08d7-48f5-f113-7068f11a0bc2"
      },
      "execution_count": null,
      "outputs": [
        {
          "output_type": "stream",
          "name": "stdout",
          "text": [
            "[0. 0. 0. 0. 0.]\n",
            "<class 'numpy.ndarray'>\n"
          ]
        }
      ]
    },
    {
      "cell_type": "markdown",
      "source": [
        "numpy.ones()"
      ],
      "metadata": {
        "id": "-5ynVx_vNGRf"
      }
    },
    {
      "cell_type": "code",
      "source": [
        "np.ones(2)"
      ],
      "metadata": {
        "colab": {
          "base_uri": "https://localhost:8080/"
        },
        "id": "r_eELBuuM-Er",
        "outputId": "b9d1b094-1bf8-4cca-d903-f4b47a14c5f0"
      },
      "execution_count": null,
      "outputs": [
        {
          "output_type": "execute_result",
          "data": {
            "text/plain": [
              "array([1., 1.])"
            ]
          },
          "metadata": {},
          "execution_count": 7
        }
      ]
    },
    {
      "cell_type": "markdown",
      "source": [
        "numpy.empty()"
      ],
      "metadata": {
        "id": "eKf7YWWXNrvl"
      }
    },
    {
      "cell_type": "code",
      "source": [
        "np.empty(10) #random 숫자로 배열을 인자값의 크기만큼 만든다"
      ],
      "metadata": {
        "colab": {
          "base_uri": "https://localhost:8080/"
        },
        "id": "FC870GXoNK-w",
        "outputId": "54915df9-f036-439f-96b2-50b675d544de"
      },
      "execution_count": null,
      "outputs": [
        {
          "output_type": "execute_result",
          "data": {
            "text/plain": [
              "array([4.63866555e-310, 0.00000000e+000, 0.00000000e+000, 0.00000000e+000,\n",
              "       0.00000000e+000, 0.00000000e+000, 0.00000000e+000, 0.00000000e+000,\n",
              "       0.00000000e+000, 0.00000000e+000])"
            ]
          },
          "metadata": {},
          "execution_count": 9
        }
      ]
    },
    {
      "cell_type": "markdown",
      "source": [
        "numpy.arange()"
      ],
      "metadata": {
        "id": "z0Wrb3B7NvNA"
      }
    },
    {
      "cell_type": "code",
      "source": [
        "np.arange(4) "
      ],
      "metadata": {
        "colab": {
          "base_uri": "https://localhost:8080/"
        },
        "id": "ydUShcOhNoII",
        "outputId": "9a3fc7df-d18f-49df-b384-5ce51d188254"
      },
      "execution_count": null,
      "outputs": [
        {
          "output_type": "execute_result",
          "data": {
            "text/plain": [
              "array([0, 1, 2, 3])"
            ]
          },
          "metadata": {},
          "execution_count": 14
        }
      ]
    },
    {
      "cell_type": "code",
      "source": [
        "np.arange(2,10,2) #(초기값, 마지막값, step 값)"
      ],
      "metadata": {
        "colab": {
          "base_uri": "https://localhost:8080/"
        },
        "id": "EohFq5qCNaxS",
        "outputId": "f44f93a4-564d-4d79-faa0-7ab883265324"
      },
      "execution_count": null,
      "outputs": [
        {
          "output_type": "execute_result",
          "data": {
            "text/plain": [
              "array([2, 4, 6, 8])"
            ]
          },
          "metadata": {},
          "execution_count": 13
        }
      ]
    },
    {
      "cell_type": "code",
      "source": [
        "#주어진 구간을 num의 개수만큼 나누어준다\n",
        "#시작값+(num-1)*x=마지막값 에서 x는 구간의 크기\n",
        "a=np.linspace(0,10,num=5)\n",
        "print(\"a=\",a)\n",
        "b=np.linspace(0,10,num=10)\n",
        "print(\"b=\",b)"
      ],
      "metadata": {
        "colab": {
          "base_uri": "https://localhost:8080/"
        },
        "id": "q83oBZzQNybK",
        "outputId": "a15fe1db-ee67-4cb1-812a-249535b069f4"
      },
      "execution_count": null,
      "outputs": [
        {
          "output_type": "stream",
          "name": "stdout",
          "text": [
            "a= [ 0.   2.5  5.   7.5 10. ]\n",
            "b= [ 0.          1.11111111  2.22222222  3.33333333  4.44444444  5.55555556\n",
            "  6.66666667  7.77777778  8.88888889 10.        ]\n"
          ]
        }
      ]
    },
    {
      "cell_type": "markdown",
      "source": [
        "# array의 shape와 크기를 아는 방법\n",
        "*  ndarray.ndim\n",
        "*  ndarray.size\n",
        "*  ndarray.shape"
      ],
      "metadata": {
        "id": "5nsNgQXXOpna"
      }
    },
    {
      "cell_type": "code",
      "source": [
        "x=np.arange(24).reshape(3,2,4) #3*2*4의 형태로 변환\n",
        "print(\"x=\",x)\n",
        "print()\n",
        "print(\"x.ndim = \",x.ndim)\n",
        "print()\n",
        "print(\"x.size = \",x.size)\n",
        "print()\n",
        "print(\"x.shape = \",x.shape)"
      ],
      "metadata": {
        "colab": {
          "base_uri": "https://localhost:8080/"
        },
        "id": "asdpyyzYOn61",
        "outputId": "8bccaea6-5e9e-4384-84c5-2be79f72dead"
      },
      "execution_count": null,
      "outputs": [
        {
          "output_type": "stream",
          "name": "stdout",
          "text": [
            "x= [[[ 0  1  2  3]\n",
            "  [ 4  5  6  7]]\n",
            "\n",
            " [[ 8  9 10 11]\n",
            "  [12 13 14 15]]\n",
            "\n",
            " [[16 17 18 19]\n",
            "  [20 21 22 23]]]\n",
            "\n",
            "x.ndim =  3\n",
            "\n",
            "x.size =  24\n",
            "\n",
            "x.shape =  (3, 2, 4)\n"
          ]
        }
      ]
    },
    {
      "cell_type": "markdown",
      "source": [
        "# 1D 배열 슬라이싱, 인덱싱"
      ],
      "metadata": {
        "id": "6I2uCJUyPYQD"
      }
    },
    {
      "cell_type": "code",
      "source": [
        "x=np.arange(24)\n",
        "print(\"x[0]=\",x[0])\n",
        "print(\"x[1]=\",x[1])"
      ],
      "metadata": {
        "colab": {
          "base_uri": "https://localhost:8080/"
        },
        "id": "0GWFTWwgPWq8",
        "outputId": "091813a8-d205-4065-9f4c-b4f094d08a5c"
      },
      "execution_count": null,
      "outputs": [
        {
          "output_type": "stream",
          "name": "stdout",
          "text": [
            "x[0]= 0\n",
            "x[1]= 1\n"
          ]
        }
      ]
    },
    {
      "cell_type": "markdown",
      "source": [
        "[start:end]"
      ],
      "metadata": {
        "id": "vyGUImXIP9qt"
      }
    },
    {
      "cell_type": "code",
      "source": [
        "print(\"x[1:2]=\",x[1:2])\n",
        "print(\"x[1:7]=\",x[1:7])"
      ],
      "metadata": {
        "colab": {
          "base_uri": "https://localhost:8080/"
        },
        "id": "NC8OqxzqPmDo",
        "outputId": "c8d4d7f9-4272-4c54-a31b-f11a201e777b"
      },
      "execution_count": null,
      "outputs": [
        {
          "output_type": "stream",
          "name": "stdout",
          "text": [
            "X[1:2]= [1]\n",
            "X[1:7]= [1 2 3 4 5 6]\n"
          ]
        }
      ]
    },
    {
      "cell_type": "markdown",
      "source": [
        "[start:end:interval]"
      ],
      "metadata": {
        "id": "HsC3kJYqQAEL"
      }
    },
    {
      "cell_type": "code",
      "source": [
        "print(\"x[2::3]=\",x[2::3])\n",
        "#[2,5,8,11,14,17,20,23]을 다시 [0:3]만큼 슬라이싱\n",
        "print(\"x[2::3][0:3]=\",x[2::3][0:3])"
      ],
      "metadata": {
        "colab": {
          "base_uri": "https://localhost:8080/"
        },
        "id": "y2TUbLugP1Tb",
        "outputId": "056da352-c69d-4cd8-e4a2-915154789e16"
      },
      "execution_count": null,
      "outputs": [
        {
          "output_type": "stream",
          "name": "stdout",
          "text": [
            "x[2::3]= [ 2  5  8 11 14 17 20 23]\n",
            "x[2::3][0:3]= [2 5 8]\n"
          ]
        }
      ]
    },
    {
      "cell_type": "code",
      "source": [
        "print(\"x[::]=\",x[::])"
      ],
      "metadata": {
        "colab": {
          "base_uri": "https://localhost:8080/"
        },
        "id": "cMrMcHFPQp2T",
        "outputId": "315f0a96-7afd-48ef-f9f1-82f958b84e5a"
      },
      "execution_count": null,
      "outputs": [
        {
          "output_type": "stream",
          "name": "stdout",
          "text": [
            "x[::]= [ 0  1  2  3  4  5  6  7  8  9 10 11 12 13 14 15 16 17 18 19 20 21 22 23]\n"
          ]
        }
      ]
    },
    {
      "cell_type": "markdown",
      "source": [
        "Negative Indexing"
      ],
      "metadata": {
        "id": "eNwWpyIlRLwr"
      }
    },
    {
      "cell_type": "code",
      "source": [
        "print(\"x[-7:] = \",x[-7:])\n",
        "\n",
        "print(\"x[-7:2] = \",x[-7:2])\n",
        "\n",
        "print(\"x[-7::2] = \",x[-7::2])\n",
        "\n",
        "print(\"x[-7::-2] = \",x[-7::-2])\n",
        "\n",
        "print(\"x[:-4] = \",x[:-4])\n",
        "\n",
        "print(\"x[:-4:-1] = \",x[:-4:-1])"
      ],
      "metadata": {
        "colab": {
          "base_uri": "https://localhost:8080/"
        },
        "id": "JvgEnInmRLQJ",
        "outputId": "0d12f5c3-6fb4-4fef-8bb8-3b0daa7a6a9d"
      },
      "execution_count": null,
      "outputs": [
        {
          "output_type": "stream",
          "name": "stdout",
          "text": [
            "x[-7:] =  [17 18 19 20 21 22 23]\n",
            "x[-7:2] =  []\n",
            "x[-7::2] =  [17 19 21 23]\n",
            "x[-7::-2] =  [17 15 13 11  9  7  5  3  1]\n",
            "x[:-4] =  [ 0  1  2  3  4  5  6  7  8  9 10 11 12 13 14 15 16 17 18 19]\n",
            "x[:-4:-1] =  [23 22 21]\n"
          ]
        }
      ]
    },
    {
      "cell_type": "markdown",
      "source": [
        "# 2D 배열 슬라이싱, 인덱싱"
      ],
      "metadata": {
        "id": "1OTVfErqSrDE"
      }
    },
    {
      "cell_type": "code",
      "source": [
        "t = np.arange(42)\n",
        "print(\"t = \",t)\n",
        "y = np.arange(42).reshape(6,7)\n",
        "print(\"y = \",y)"
      ],
      "metadata": {
        "colab": {
          "base_uri": "https://localhost:8080/"
        },
        "id": "1SgJoAcUS1Q4",
        "outputId": "c3193666-a366-404e-e7d6-c3bdebabca51"
      },
      "execution_count": null,
      "outputs": [
        {
          "output_type": "stream",
          "name": "stdout",
          "text": [
            "t =  [ 0  1  2  3  4  5  6  7  8  9 10 11 12 13 14 15 16 17 18 19 20 21 22 23\n",
            " 24 25 26 27 28 29 30 31 32 33 34 35 36 37 38 39 40 41]\n",
            "y =  [[ 0  1  2  3  4  5  6]\n",
            " [ 7  8  9 10 11 12 13]\n",
            " [14 15 16 17 18 19 20]\n",
            " [21 22 23 24 25 26 27]\n",
            " [28 29 30 31 32 33 34]\n",
            " [35 36 37 38 39 40 41]]\n"
          ]
        }
      ]
    },
    {
      "cell_type": "code",
      "source": [
        "print(\"y[0]=\",y[0])\n",
        "print(\"y[1]=\",y[1])"
      ],
      "metadata": {
        "colab": {
          "base_uri": "https://localhost:8080/"
        },
        "id": "yPFmcmhtS1ZP",
        "outputId": "58e9274b-1a50-4f03-8280-08e79bea9fc2"
      },
      "execution_count": null,
      "outputs": [
        {
          "output_type": "stream",
          "name": "stdout",
          "text": [
            "y[0]= [0 1 2 3 4 5 6]\n",
            "y[1]= [ 7  8  9 10 11 12 13]\n"
          ]
        }
      ]
    },
    {
      "cell_type": "code",
      "source": [
        "#첫 번째 열 출력\n",
        "print(\"y[:,0]=\",y[:,0])\n",
        "#세 번째 열 출력\n",
        "print(\"y[:,3]=\",y[:,3])"
      ],
      "metadata": {
        "colab": {
          "base_uri": "https://localhost:8080/"
        },
        "id": "7ROu163eUEUs",
        "outputId": "109a6b3f-8318-4b2a-a745-4f7d60bbd883"
      },
      "execution_count": null,
      "outputs": [
        {
          "output_type": "stream",
          "name": "stdout",
          "text": [
            "y[:,0]= [ 0  7 14 21 28 35]\n",
            "y[:,3]= [ 3 10 17 24 31 38]\n"
          ]
        }
      ]
    },
    {
      "cell_type": "code",
      "source": [
        "print(\"y[2,3]=\",y[2,3])"
      ],
      "metadata": {
        "colab": {
          "base_uri": "https://localhost:8080/"
        },
        "id": "kh9-Xk_GUO18",
        "outputId": "a12210c0-2553-4302-df69-b3e21052756d"
      },
      "execution_count": null,
      "outputs": [
        {
          "output_type": "stream",
          "name": "stdout",
          "text": [
            "y[2,3]= 17\n"
          ]
        }
      ]
    },
    {
      "cell_type": "code",
      "source": [
        "#0:3에서 3은 exclusive이므로 첫번째행~세번째행까지만 출력 \n",
        "print(\"y[0:3,1]=\",y[0:3,1])"
      ],
      "metadata": {
        "colab": {
          "base_uri": "https://localhost:8080/"
        },
        "id": "AW_57BJSUayK",
        "outputId": "441783bc-bbf6-4d50-b0ac-a337135d90d3"
      },
      "execution_count": null,
      "outputs": [
        {
          "output_type": "stream",
          "name": "stdout",
          "text": [
            "y[0:3,1]= [ 1  8 15]\n"
          ]
        }
      ]
    },
    {
      "cell_type": "markdown",
      "source": [
        "Submatrix"
      ],
      "metadata": {
        "id": "hoPTTtTtVMPF"
      }
    },
    {
      "cell_type": "code",
      "source": [
        "print(\"y=\",y)\n",
        "print()\n",
        "print(\"y[1:4,0:2]=\",y[1:4,0:2])"
      ],
      "metadata": {
        "colab": {
          "base_uri": "https://localhost:8080/"
        },
        "id": "lH93MGuHUrcx",
        "outputId": "8b469715-7c63-47d4-854a-81f8d54f8030"
      },
      "execution_count": null,
      "outputs": [
        {
          "output_type": "stream",
          "name": "stdout",
          "text": [
            "y= [[ 0  1  2  3  4  5  6]\n",
            " [ 7  8  9 10 11 12 13]\n",
            " [14 15 16 17 18 19 20]\n",
            " [21 22 23 24 25 26 27]\n",
            " [28 29 30 31 32 33 34]\n",
            " [35 36 37 38 39 40 41]]\n",
            "\n",
            "y[1:4,0:2]= [[ 7  8]\n",
            " [14 15]\n",
            " [21 22]]\n"
          ]
        }
      ]
    },
    {
      "cell_type": "code",
      "source": [
        "#첫번째, 세번째, 다섯번째 행 출력\n",
        "print(\"y[0::2]=\",y[0::2])"
      ],
      "metadata": {
        "colab": {
          "base_uri": "https://localhost:8080/"
        },
        "id": "QlP7XjjvVKwJ",
        "outputId": "f53c605d-ee9e-45ae-f12d-441cabe90199"
      },
      "execution_count": null,
      "outputs": [
        {
          "output_type": "stream",
          "name": "stdout",
          "text": [
            "y[0::2]= [[ 0  1  2  3  4  5  6]\n",
            " [14 15 16 17 18 19 20]\n",
            " [28 29 30 31 32 33 34]]\n"
          ]
        }
      ]
    },
    {
      "cell_type": "code",
      "source": [
        "#행은 모두, 열은 2칸씩 jump하면서 출력\n",
        "print(\"y[:,0::2]=\",y[:,0::2])"
      ],
      "metadata": {
        "colab": {
          "base_uri": "https://localhost:8080/"
        },
        "id": "wVmQKi1qVoKl",
        "outputId": "d6709d19-20eb-4cee-edcd-6b0dc84ad5ea"
      },
      "execution_count": null,
      "outputs": [
        {
          "output_type": "stream",
          "name": "stdout",
          "text": [
            "y[:,0::2]= [[ 0  2  4  6]\n",
            " [ 7  9 11 13]\n",
            " [14 16 18 20]\n",
            " [21 23 25 27]\n",
            " [28 30 32 34]\n",
            " [35 37 39 41]]\n"
          ]
        }
      ]
    },
    {
      "cell_type": "markdown",
      "source": [
        "# 3D 배열 슬라이싱, 인덱싱"
      ],
      "metadata": {
        "id": "rdNiCHdwWc4f"
      }
    },
    {
      "cell_type": "code",
      "source": [
        "#(장,행,열)\n",
        "x=np.arange(45).reshape(3,3,5)\n",
        "print(x)"
      ],
      "metadata": {
        "colab": {
          "base_uri": "https://localhost:8080/"
        },
        "id": "R8IMchIWWhKp",
        "outputId": "1d6b42e7-9596-4a4a-e8a0-2e563e5ab5de"
      },
      "execution_count": null,
      "outputs": [
        {
          "output_type": "stream",
          "name": "stdout",
          "text": [
            "[[[ 0  1  2  3  4]\n",
            "  [ 5  6  7  8  9]\n",
            "  [10 11 12 13 14]]\n",
            "\n",
            " [[15 16 17 18 19]\n",
            "  [20 21 22 23 24]\n",
            "  [25 26 27 28 29]]\n",
            "\n",
            " [[30 31 32 33 34]\n",
            "  [35 36 37 38 39]\n",
            "  [40 41 42 43 44]]]\n"
          ]
        }
      ]
    },
    {
      "cell_type": "code",
      "source": [
        "print(\"x[0]=\",x[0])\n",
        "print()\n",
        "print(\"x[2]=\",x[2])"
      ],
      "metadata": {
        "colab": {
          "base_uri": "https://localhost:8080/"
        },
        "id": "Jfsn69KKWPUy",
        "outputId": "8a55632f-f87e-41d4-98a3-c3fe5bda1156"
      },
      "execution_count": null,
      "outputs": [
        {
          "output_type": "stream",
          "name": "stdout",
          "text": [
            "x[0]= [[ 0  1  2  3  4]\n",
            " [ 5  6  7  8  9]\n",
            " [10 11 12 13 14]]\n",
            "\n",
            "x[2]= [[30 31 32 33 34]\n",
            " [35 36 37 38 39]\n",
            " [40 41 42 43 44]]\n"
          ]
        }
      ]
    },
    {
      "cell_type": "code",
      "source": [
        "print(x)\n",
        "print(\"x[0,1]=\",x[0,1]) #첫 번째 장의 두 번째 행 출력\n",
        "print()\n",
        "print(\"x[0][1] = \",x[0][1]) #첫 번째 장의 두 번째 행 출력"
      ],
      "metadata": {
        "colab": {
          "base_uri": "https://localhost:8080/"
        },
        "id": "vY0iRGTkXBNJ",
        "outputId": "230e3ba5-dbc8-4497-c51c-b315e7dca8fc"
      },
      "execution_count": null,
      "outputs": [
        {
          "output_type": "stream",
          "name": "stdout",
          "text": [
            "[[[ 0  1  2  3  4]\n",
            "  [ 5  6  7  8  9]\n",
            "  [10 11 12 13 14]]\n",
            "\n",
            " [[15 16 17 18 19]\n",
            "  [20 21 22 23 24]\n",
            "  [25 26 27 28 29]]\n",
            "\n",
            " [[30 31 32 33 34]\n",
            "  [35 36 37 38 39]\n",
            "  [40 41 42 43 44]]]\n",
            "x[0,1]= [5 6 7 8 9]\n",
            "\n",
            "x[0][1] =  [5 6 7 8 9]\n"
          ]
        }
      ]
    },
    {
      "cell_type": "code",
      "source": [
        "#첫 번째 장의 두 번째 행의 세 번째 열 출력\n",
        "print(\"x[0][1][2] = \",x[0][1][2])"
      ],
      "metadata": {
        "colab": {
          "base_uri": "https://localhost:8080/"
        },
        "id": "T2HXO0lmXc5J",
        "outputId": "ce280b68-912f-46c6-ae64-fcbdd1551d2b"
      },
      "execution_count": null,
      "outputs": [
        {
          "output_type": "stream",
          "name": "stdout",
          "text": [
            "x[0][1][2] =  7\n"
          ]
        }
      ]
    },
    {
      "cell_type": "code",
      "source": [
        "t=x[1:]\n",
        "print(\"t=\",t)\n",
        "print()\n",
        "print(\"t[0]=\",t[0])\n",
        "print()\n",
        "print(\"x[1:][0]=\",x[1:][0]) #x의 두 번째+세 번째 장 중에서 첫 번째 장이므로 최종적으로 x의 두 번째 장\n",
        "print()\n",
        "print(\"x[1:,0]=\",x[1:,0])#x의 두 번째,세 번째 장의 첫 번째 행 출력 "
      ],
      "metadata": {
        "colab": {
          "base_uri": "https://localhost:8080/"
        },
        "id": "LeGV8WonXsxJ",
        "outputId": "8c32cdbb-97e8-4ebc-9a23-cf53aaabb5d7"
      },
      "execution_count": null,
      "outputs": [
        {
          "output_type": "stream",
          "name": "stdout",
          "text": [
            "t= [[[15 16 17 18 19]\n",
            "  [20 21 22 23 24]\n",
            "  [25 26 27 28 29]]\n",
            "\n",
            " [[30 31 32 33 34]\n",
            "  [35 36 37 38 39]\n",
            "  [40 41 42 43 44]]]\n",
            "\n",
            "t[0]= [[15 16 17 18 19]\n",
            " [20 21 22 23 24]\n",
            " [25 26 27 28 29]]\n",
            "\n",
            "x[1:][0]= [[15 16 17 18 19]\n",
            " [20 21 22 23 24]\n",
            " [25 26 27 28 29]]\n",
            "\n",
            "x[1:,0]= [[15 16 17 18 19]\n",
            " [30 31 32 33 34]]\n"
          ]
        }
      ]
    },
    {
      "cell_type": "code",
      "source": [
        "print(x)\n",
        "print(\"x[1:,0:2,1:4]=\",x[1:,0:2,1:4])"
      ],
      "metadata": {
        "colab": {
          "base_uri": "https://localhost:8080/"
        },
        "id": "zfP3IQ4uYkYL",
        "outputId": "9d7cc416-d86b-4412-d847-4b8a41fa7a8d"
      },
      "execution_count": null,
      "outputs": [
        {
          "output_type": "stream",
          "name": "stdout",
          "text": [
            "[[[ 0  1  2  3  4]\n",
            "  [ 5  6  7  8  9]\n",
            "  [10 11 12 13 14]]\n",
            "\n",
            " [[15 16 17 18 19]\n",
            "  [20 21 22 23 24]\n",
            "  [25 26 27 28 29]]\n",
            "\n",
            " [[30 31 32 33 34]\n",
            "  [35 36 37 38 39]\n",
            "  [40 41 42 43 44]]]\n",
            "x[1:,0:2,1:4]= [[[16 17 18]\n",
            "  [21 22 23]]\n",
            "\n",
            " [[31 32 33]\n",
            "  [36 37 38]]]\n"
          ]
        }
      ]
    }
  ]
}