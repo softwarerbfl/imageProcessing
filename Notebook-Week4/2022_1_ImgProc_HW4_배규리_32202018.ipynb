{
  "nbformat": 4,
  "nbformat_minor": 0,
  "metadata": {
    "colab": {
      "name": "2022-1-ImgProc-HW4-배규리-32202018.ipynb",
      "provenance": [],
      "collapsed_sections": [],
      "include_colab_link": true
    },
    "kernelspec": {
      "name": "python3",
      "display_name": "Python 3"
    }
  },
  "cells": [
    {
      "cell_type": "markdown",
      "metadata": {
        "id": "view-in-github",
        "colab_type": "text"
      },
      "source": [
        "<a href=\"https://colab.research.google.com/github/softwarerbfl/imageProcessing/blob/main/Notebook-Week4/2022_1_ImgProc_HW4_%EB%B0%B0%EA%B7%9C%EB%A6%AC_32202018.ipynb\" target=\"_parent\"><img src=\"https://colab.research.google.com/assets/colab-badge.svg\" alt=\"Open In Colab\"/></a>"
      ]
    },
    {
      "cell_type": "markdown",
      "metadata": {
        "id": "7m6QNVZQQ-lh"
      },
      "source": [
        "## 영상정보처리 4주차 과제 템플리트\n",
        "- 점수: 10점 만점\n",
        "- 이미지 경로 잘못 사용한 경우: -3\n",
        "- 문제1: 5점 \n",
        "- 문제2: 5점\n",
        "\n",
        "이름: 배규리            \n",
        "학번: 32202018\n",
        "\n",
        "\n"
      ]
    },
    {
      "cell_type": "code",
      "metadata": {
        "id": "791T0SqaHngL",
        "colab": {
          "base_uri": "https://localhost:8080/",
          "height": 0
        },
        "outputId": "514b3810-856e-4817-98cc-1ed4b21fe24f"
      },
      "source": [
        "from google.colab import drive \n",
        "drive.mount('/gdrive')"
      ],
      "execution_count": 92,
      "outputs": [
        {
          "output_type": "stream",
          "name": "stdout",
          "text": [
            "Drive already mounted at /gdrive; to attempt to forcibly remount, call drive.mount(\"/gdrive\", force_remount=True).\n"
          ]
        }
      ]
    },
    {
      "cell_type": "code",
      "source": [
        "%cd /gdrive/My\\ Drive/Colab\\ Notebooks/2022_영상정보처리/Notebook-Week\\ 4\n",
        "import cv2\n",
        "from google.colab.patches import cv2_imshow\n",
        "import matplotlib.pyplot as pyplot\n",
        "import matplotlib.cm as cm"
      ],
      "metadata": {
        "colab": {
          "base_uri": "https://localhost:8080/",
          "height": 0
        },
        "id": "AyzcEe5GH_dq",
        "outputId": "16d2e354-2ac4-46c1-954c-53303bcf48fc"
      },
      "execution_count": 93,
      "outputs": [
        {
          "output_type": "stream",
          "name": "stdout",
          "text": [
            "/gdrive/My Drive/Colab Notebooks/2022_영상정보처리/Notebook-Week 4\n"
          ]
        }
      ]
    },
    {
      "cell_type": "markdown",
      "metadata": {
        "id": "3zS1iBGrH0Rj"
      },
      "source": [
        "Souce image 는 다음의 image_path 를 변경하지 말고 이용할 것. 경로가 다른 경우 감점 -3"
      ]
    },
    {
      "cell_type": "code",
      "metadata": {
        "id": "h-obB5qQHu0G"
      },
      "source": [
        "image_path = '../Dongkeun-OpenCV-ImgData/logo.png' "
      ],
      "execution_count": 95,
      "outputs": []
    },
    {
      "cell_type": "markdown",
      "metadata": {
        "id": "rCjnSlTRILjW"
      },
      "source": [
        "## 문제 1: 부분 이미지를 이용한 이미지 생성\n",
        "\n",
        "1. 위의 이미지 경로를 이용하여 이미지를 컬러 이미지 org_image 로 읽기\n",
        "2. 읽은 이미지와 동일 크기의 컬러 이미지를 new_image1 로 만들기 \n",
        "3. new_image1 를 x 축 방향으로 4등분하고 왼쪽부터 subimage 1, 2, 3, 4 라고 할때 다음과 같이 new_image1을 구성하기 \n",
        "  - x 축값이 4등분하여 4개의 영역이 동일 크기가 되지 않는 경우, 맨 오른쪽 영역에는 남는 크기 배분\n",
        "  - subimage 1: 동일 영역에 해당하는 org_image 부분 복사하기 \n",
        "  - subimage 2: 동일 영역에 해당하는 org_image 부분에서 Red 성분만 복사하고, green/blue 부분은 0으로 하여 subimage 2에 채워 넣을 것\n",
        "  - subimage 3: 동일 영역에 해당하는 org_image 부분에서 Blue 성분만 복사하고, green/red 부분은 0으로 하여 subimage 3에 채워 넣을 것\n",
        "  - subimage 4: 동일 영역에 해당하는 org_image 부분에서 Green 성분만 복사하고, blue/red 부분은 0으로 하여 subimage 4에 채워 넣을 것\n",
        "\n",
        "4. new_image1 을 디스플레이하기 "
      ]
    },
    {
      "cell_type": "code",
      "metadata": {
        "id": "wP0-d9HwQ2Ns",
        "colab": {
          "base_uri": "https://localhost:8080/",
          "height": 189
        },
        "outputId": "ccd9bca7-745f-4880-ee24-9350be9c4afd"
      },
      "source": [
        "org_image=cv2.imread(image_path)\n",
        "cv2_imshow(org_image)"
      ],
      "execution_count": 96,
      "outputs": [
        {
          "output_type": "display_data",
          "data": {
            "text/plain": [
              "<PIL.Image.Image image mode=RGB size=199x172 at 0x7F70A3B49990>"
            ],
            "image/png": "[encoded data removed]"
          },
          "metadata": {}
        }
      ]
    },
    {
      "cell_type": "code",
      "source": [
        "print(org_image.shape) #x축을 49,49,49,52로 배분"
      ],
      "metadata": {
        "colab": {
          "base_uri": "https://localhost:8080/",
          "height": 0
        },
        "id": "5go24t1POBYx",
        "outputId": "1afa4d11-dd06-4b54-f117-9424c793eb87"
      },
      "execution_count": 97,
      "outputs": [
        {
          "output_type": "stream",
          "name": "stdout",
          "text": [
            "(172, 199, 3)\n"
          ]
        }
      ]
    },
    {
      "cell_type": "code",
      "source": [
        "new_image1=org_image.copy()\n",
        "subimage1=new_image1[:,0:49]\n",
        "subimage2=new_image1[:,49:98]\n",
        "subimage3=new_image1[:,98:147]\n",
        "subimage4=new_image1[:,147:199]"
      ],
      "metadata": {
        "id": "5f6UXjoRfTqK"
      },
      "execution_count": 98,
      "outputs": []
    },
    {
      "cell_type": "code",
      "source": [
        "#Red성분만 추출\n",
        "subimage2[:,:,0]=0\n",
        "subimage2[:,:,1]=0\n",
        "#Blue성분만 추출\n",
        "subimage3[:,:,1]=0\n",
        "subimage3[:,:,2]=0\n",
        "#Green성분만 추출\n",
        "subimage4[:,:,0]=0\n",
        "subimage4[:,:,2]=0"
      ],
      "metadata": {
        "id": "ccFcojFks35R"
      },
      "execution_count": 99,
      "outputs": []
    },
    {
      "cell_type": "code",
      "source": [
        "#이미지 연결\n",
        "new_image=np.concatenate((subimage1,subimage2,subimage3,subimage4),axis=1)\n",
        "#cv2로 읽었어온 파일이므로 출력시 RGB로 뒤집어주어야 제대로 색 출력\n",
        "new_image=new_image[:,:,::-1] \n",
        "\n",
        "pyplot.imshow(new_image)\n",
        "pyplot.show()"
      ],
      "metadata": {
        "colab": {
          "base_uri": "https://localhost:8080/",
          "height": 269
        },
        "id": "K7v9l7yluuaf",
        "outputId": "0a80b0d7-531a-492b-bc8b-fd92ea804b32"
      },
      "execution_count": 100,
      "outputs": [
        {
          "output_type": "display_data",
          "data": {
            "text/plain": [
              "<Figure size 432x288 with 1 Axes>"
            ],
            "image/png": "[encoded data removed]"
          },
          "metadata": {
            "needs_background": "light"
          }
        }
      ]
    },
    {
      "cell_type": "markdown",
      "metadata": {
        "id": "nfj3-xj8KAUc"
      },
      "source": [
        "## 문제 2: 식을 이용한 grayscale 이미지 만들기 \n",
        "\n",
        "1. org_image와 같은 크기의 공백 grayscale 이미지 new_image2 만들기\n",
        "2. org_image 의 각 화소를 접근하여 강의에서 설명한 공식을 사용하여 grayscale 값으로 변환하여 새로운 그레이스케일 이미지 new_image2 에 저장하기\n",
        "2. new_image2 디스플레이하기 \n",
        "\n",
        "[참조] https://stackoverflow.com/questions/17615963/standard-rgb-to-grayscale-conversion\n",
        "\n"
      ]
    },
    {
      "cell_type": "code",
      "metadata": {
        "id": "x_C54G9QKrMQ",
        "colab": {
          "base_uri": "https://localhost:8080/",
          "height": 189
        },
        "outputId": "0e9283fb-62d5-4088-8fce-7726b9a21e77"
      },
      "source": [
        "import numpy as np\n",
        "\n",
        "org_image=cv2.imread(image_path)\n",
        "b,g,r=cv2.split(org_image)\n",
        "#공식 적용\n",
        "new_image2=b*0.114+g*0.587+r*0.299 \n",
        "cv2_imshow(new_image2.astype(np.uint8))"
      ],
      "execution_count": 101,
      "outputs": [
        {
          "output_type": "display_data",
          "data": {
            "text/plain": [
              "<PIL.Image.Image image mode=L size=199x172 at 0x7F70A3B0C2D0>"
            ],
            "image/png": "[encoded data removed]"
          },
          "metadata": {}
        }
      ]
    }
  ]
}