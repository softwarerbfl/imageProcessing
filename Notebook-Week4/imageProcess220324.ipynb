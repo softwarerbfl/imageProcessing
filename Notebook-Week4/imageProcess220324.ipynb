{
  "nbformat": 4,
  "nbformat_minor": 0,
  "metadata": {
    "colab": {
      "name": "imageProcess220324.ipynb",
      "provenance": [],
      "authorship_tag": "ABX9TyOXuvpt2FCG6px0NymSkxpP",
      "include_colab_link": true
    },
    "kernelspec": {
      "name": "python3",
      "display_name": "Python 3"
    },
    "language_info": {
      "name": "python"
    }
  },
  "cells": [
    {
      "cell_type": "markdown",
      "metadata": {
        "id": "view-in-github",
        "colab_type": "text"
      },
      "source": [
        "<a href=\"https://colab.research.google.com/github/softwarerbfl/imageProcessing/blob/main/Notebook-Week4/imageProcess220324.ipynb\" target=\"_parent\"><img src=\"https://colab.research.google.com/assets/colab-badge.svg\" alt=\"Open In Colab\"/></a>"
      ]
    },
    {
      "cell_type": "code",
      "execution_count": 1,
      "metadata": {
        "colab": {
          "base_uri": "https://localhost:8080/"
        },
        "id": "pBo283BsOgbU",
        "outputId": "c82801dc-98f0-4a48-8379-a1afb8bb09ca"
      },
      "outputs": [
        {
          "output_type": "stream",
          "name": "stdout",
          "text": [
            "Mounted at /gdrive\n",
            "/gdrive/My Drive/Colab Notebooks/2022_영상정보처리/Notebook-Week 4\n"
          ]
        }
      ],
      "source": [
        "from google.colab import drive \n",
        "drive.mount('/gdrive')\n",
        "%cd /gdrive/My\\ Drive/Colab\\ Notebooks/2022_영상정보처리/Notebook-Week\\ 4\n",
        "import cv2\n",
        "import matplotlib.pyplot as pyplot\n",
        "import matplotlib.cm as cm"
      ]
    },
    {
      "cell_type": "code",
      "source": [
        "!pwd"
      ],
      "metadata": {
        "colab": {
          "base_uri": "https://localhost:8080/"
        },
        "id": "LtArOuCHOmmJ",
        "outputId": "7f4fb04d-24b4-4c59-d95d-026b94426adc"
      },
      "execution_count": 2,
      "outputs": [
        {
          "output_type": "stream",
          "name": "stdout",
          "text": [
            "/gdrive/My Drive/Colab Notebooks/2022_영상정보처리/Notebook-Week 4\n"
          ]
        }
      ]
    },
    {
      "cell_type": "code",
      "source": [
        "dict={\"brand\":\"ford\",\"model\":\"mustang\"}\n",
        "x1=dict[\"model\"]\n",
        "x2=dict.get(\"model\")\n",
        "dict[\"year\"]=2018\n",
        "\n",
        "print(dict)\n",
        "print(x1)\n",
        "print(x2)"
      ],
      "metadata": {
        "colab": {
          "base_uri": "https://localhost:8080/"
        },
        "id": "lKZio87lOwi9",
        "outputId": "7aaa8fad-529e-42a7-970e-56d0d79f9893"
      },
      "execution_count": 3,
      "outputs": [
        {
          "output_type": "stream",
          "name": "stdout",
          "text": [
            "{'brand': 'ford', 'model': 'mustang', 'year': 2018}\n",
            "mustang\n",
            "mustang\n"
          ]
        }
      ]
    },
    {
      "cell_type": "markdown",
      "source": [
        "# numpy로 랜덤 배열(array) 생성하기 "
      ],
      "metadata": {
        "id": "VrIkyB1fUVLJ"
      }
    },
    {
      "cell_type": "markdown",
      "source": [
        "`numpy.random.randint(low, high=None,size=None, dtype=\"l\")`\n",
        "*   low : 최소값\n",
        "*   high : 최대값\n",
        "*   size : x이면 크기가 x인 1차원 배열, (x,y)이면 크기가 x*y인 2차원 배열, (x,y,z)이면 크기가 x *y :*z인 3차원 배열 \n",
        "*   dtype : 데이터형 \n"
      ],
      "metadata": {
        "id": "xagfANlrRBeC"
      }
    },
    {
      "cell_type": "code",
      "source": [
        "import numpy as np\n",
        "colors={\"blue\":{255,0,0}, \"green\":{0,255,0},\"red\":{0,0,255}, \"rand\" :np.random.randint(0,high=256,size=(3,)).tolist()}\n",
        "print(colors[\"rand\"])\n",
        "np.random.randint(5,size=(2,4))"
      ],
      "metadata": {
        "colab": {
          "base_uri": "https://localhost:8080/"
        },
        "id": "FCKXsxhaPMTg",
        "outputId": "a54708bd-5a44-4ed9-84f0-0922e3efde78"
      },
      "execution_count": 9,
      "outputs": [
        {
          "output_type": "stream",
          "name": "stdout",
          "text": [
            "[232, 219, 99]\n"
          ]
        },
        {
          "output_type": "execute_result",
          "data": {
            "text/plain": [
              "array([[0, 0, 3, 0],\n",
              "       [0, 3, 2, 4]])"
            ]
          },
          "metadata": {},
          "execution_count": 9
        }
      ]
    },
    {
      "cell_type": "markdown",
      "source": [
        "# numpy로 array 모양(shape)바꾸기"
      ],
      "metadata": {
        "id": "jjqPbO-mSte5"
      }
    },
    {
      "cell_type": "code",
      "source": [
        "import numpy as np\n",
        "test_array=[[1,2,3,4],[1,2,3,4]]\n",
        "test_matrix=np.array(test_array)\n",
        "test_matrix.shape"
      ],
      "metadata": {
        "colab": {
          "base_uri": "https://localhost:8080/"
        },
        "id": "UcyVg9gETe8r",
        "outputId": "641f4b94-d506-409f-ff9b-28581cb00f16"
      },
      "execution_count": 10,
      "outputs": [
        {
          "output_type": "execute_result",
          "data": {
            "text/plain": [
              "(2, 4)"
            ]
          },
          "metadata": {},
          "execution_count": 10
        }
      ]
    },
    {
      "cell_type": "code",
      "source": [
        "#2*4배열을 8*1배열로 바꾸어 줌\n",
        "test_matrix = np.array(test_array).reshape(8,)\n",
        "print(test_matrix)\n",
        "print(test_matrix.shape)"
      ],
      "metadata": {
        "colab": {
          "base_uri": "https://localhost:8080/"
        },
        "id": "_GO_neG7TrAu",
        "outputId": "cd9ff178-982a-4d85-ba17-c5858143e59d"
      },
      "execution_count": 13,
      "outputs": [
        {
          "output_type": "stream",
          "name": "stdout",
          "text": [
            "[1 2 3 4 1 2 3 4]\n",
            "(8,)\n"
          ]
        }
      ]
    },
    {
      "cell_type": "code",
      "source": [
        "#2*4배열을 2*2*2배열로 바꾸어 줌\n",
        "test_matrix = np.array(test_array).reshape(2,2,2)\n",
        "print(test_matrix)\n",
        "print(test_matrix.shape)"
      ],
      "metadata": {
        "colab": {
          "base_uri": "https://localhost:8080/"
        },
        "id": "O3X-S884T5RG",
        "outputId": "48974f81-77fb-4a77-acae-c0af9756d2c1"
      },
      "execution_count": 15,
      "outputs": [
        {
          "output_type": "stream",
          "name": "stdout",
          "text": [
            "[[[1 2]\n",
            "  [3 4]]\n",
            "\n",
            " [[1 2]\n",
            "  [3 4]]]\n",
            "(2, 2, 2)\n"
          ]
        }
      ]
    },
    {
      "cell_type": "code",
      "source": [
        "#2*4배열을 4*2배열로 바꾸어 줌\n",
        "test_matrix = np.array(test_array).reshape(-1,2)\n",
        "print(test_matrix)\n",
        "print(test_matrix.shape)"
      ],
      "metadata": {
        "colab": {
          "base_uri": "https://localhost:8080/"
        },
        "id": "Do5YZeQlUDnj",
        "outputId": "7bc1c693-9d00-4691-d85a-46d1e829fc33"
      },
      "execution_count": 16,
      "outputs": [
        {
          "output_type": "stream",
          "name": "stdout",
          "text": [
            "[[1 2]\n",
            " [3 4]\n",
            " [1 2]\n",
            " [3 4]]\n",
            "(4, 2)\n"
          ]
        }
      ]
    },
    {
      "cell_type": "markdown",
      "source": [
        "# OpenCV로 도형 그리기"
      ],
      "metadata": {
        "id": "_pndOS18UaqI"
      }
    },
    {
      "cell_type": "markdown",
      "source": [
        "\n",
        "\n",
        "*   img : 이미지\n",
        "*   color : 색\n",
        "*   thickness : 두께\n",
        "*   lineType : 라인 종류\n",
        "  *   cv2.LINE_4 \n",
        "  *   cv2.LINE_8\n",
        "  *   cv2.LINE_AA\n",
        "\n",
        "\n"
      ],
      "metadata": {
        "id": "R0f_6uCQZzVf"
      }
    },
    {
      "cell_type": "markdown",
      "source": [
        "![www.charlezz.com-opencv-opencv-img1.daumcdn-1.png](data:image/png;base64,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)"
      ],
      "metadata": {
        "id": "TUZypeIjctXe"
      }
    },
    {
      "cell_type": "markdown",
      "source": [
        "**cv2로 선(line) 긋기**"
      ],
      "metadata": {
        "id": "dliTamwsYisP"
      }
    },
    {
      "cell_type": "code",
      "source": [
        "import cv2\n",
        "import numpy as np\n",
        "import matplotlib.pyplot as plt\n",
        "\n",
        "#500*500픽셀 3채널의 캔버스 생성 \n",
        "image = np.zeros((500,500,3),dtype=\"uint8\")"
      ],
      "metadata": {
        "id": "SGE32dkdUayP"
      },
      "execution_count": 28,
      "outputs": []
    },
    {
      "cell_type": "code",
      "source": [
        "#CV이미지의 BGR을 RGB로 변환하여 MATPLOTLIB에서 출력 \n",
        "def show_with_matplotlib(img, title):\n",
        "  img_RGB=img[:,:,::-1]\n",
        "  plt.imshow(img_RGB)\n",
        "  plt.title(title)\n",
        "  plt.show()"
      ],
      "metadata": {
        "id": "EQtn-2kVWatC"
      },
      "execution_count": 29,
      "outputs": []
    },
    {
      "cell_type": "code",
      "source": [
        "color={'blue':(255,0,0), 'green':(0,255,0),'red':(0,0,255),'yellow':(0,255,255),\n",
        "       'magenta':(255,0,255),'cyan':(255,255,0),'white':(255,255,255),'black':(0,0,0),\n",
        "       'gray':(125,125,125),'rand':np.random.randint(0,high=256,size=(3,)).tolist(),\n",
        "       'dark_gray':(50,50,50),'light_gray':(220,220,220)}"
      ],
      "metadata": {
        "id": "AXgjAEukWvwp"
      },
      "execution_count": 30,
      "outputs": []
    },
    {
      "cell_type": "code",
      "source": [
        "#캔버스를 회색으로 칠해줌 \n",
        "image[:]=color['light_gray']"
      ],
      "metadata": {
        "id": "lbgNKHStUwrG"
      },
      "execution_count": 32,
      "outputs": []
    },
    {
      "cell_type": "code",
      "source": [
        "show_with_matplotlib(image,\"image\")"
      ],
      "metadata": {
        "colab": {
          "base_uri": "https://localhost:8080/",
          "height": 281
        },
        "id": "N7EVP1YBXoMb",
        "outputId": "4aa17b4c-84ee-487a-aea4-ef87c83ba7e1"
      },
      "execution_count": 35,
      "outputs": [
        {
          "output_type": "display_data",
          "data": {
            "text/plain": [
              "<Figure size 432x288 with 1 Axes>"
            ],
            "image/png": "[encoded data removed]"
          },
          "metadata": {
            "needs_background": "light"
          }
        }
      ]
    },
    {
      "cell_type": "code",
      "source": [
        "#캔버스에 선 긋기 \n",
        "separation=40\n",
        "for key in color:\n",
        "  #line함수에서 매개변수는 (x,y)이므로 헷갈리지말 것!!!\n",
        "  cv2.line(image, (0,separation),(500,separation),color[key],10) \n",
        "  separation+=40\n",
        "show_with_matplotlib(image, 'Dictionary with some predefined colors')"
      ],
      "metadata": {
        "colab": {
          "base_uri": "https://localhost:8080/",
          "height": 281
        },
        "id": "QLEIOPEmVOFw",
        "outputId": "b358b413-8453-4eeb-af96-f29783ce2a6e"
      },
      "execution_count": 39,
      "outputs": [
        {
          "output_type": "display_data",
          "data": {
            "text/plain": [
              "<Figure size 432x288 with 1 Axes>"
            ],
            "image/png": "[encoded data removed]"
          },
          "metadata": {
            "needs_background": "light"
          }
        }
      ]
    },
    {
      "cell_type": "markdown",
      "source": [
        "**cv2로 linetype별로 선 그리기**"
      ],
      "metadata": {
        "id": "K4BKO-R-dBzQ"
      }
    },
    {
      "cell_type": "code",
      "source": [
        "image1=np.zeros((400,400,3),dtype='uint8')\n",
        "image1[:]=color['light_gray']\n",
        "show_with_matplotlib(image1,\"Blank image\")"
      ],
      "metadata": {
        "colab": {
          "base_uri": "https://localhost:8080/",
          "height": 281
        },
        "id": "02KZwY-4cVLn",
        "outputId": "1fef3ca5-adc4-418f-af6b-001f97d9fa98"
      },
      "execution_count": 43,
      "outputs": [
        {
          "output_type": "display_data",
          "data": {
            "text/plain": [
              "<Figure size 432x288 with 1 Axes>"
            ],
            "image/png": "[encoded data removed]"
          },
          "metadata": {
            "needs_background": "light"
          }
        }
      ]
    },
    {
      "cell_type": "code",
      "source": [
        "#다섯 번째 매개변수는 thickness\n",
        "cv2.line(image1,(0,0),(400,400),color['green'],3)\n",
        "cv2.line(image1,(0,400),(400,0),color['blue'],10)\n",
        "cv2.line(image1,(200,0),(200,400),color['red'],3)\n",
        "cv2.line(image1,(0,200),(400,200),color['yellow'],10)\n",
        "\n",
        "show_with_matplotlib(image1,\"cv2.line()\")"
      ],
      "metadata": {
        "colab": {
          "base_uri": "https://localhost:8080/",
          "height": 281
        },
        "id": "cM5WjgETdV-y",
        "outputId": "91a4eabb-b606-4831-ccd5-21cee89ad6d1"
      },
      "execution_count": 44,
      "outputs": [
        {
          "output_type": "display_data",
          "data": {
            "text/plain": [
              "<Figure size 432x288 with 1 Axes>"
            ],
            "image/png": "[encoded data removed]"
          },
          "metadata": {
            "needs_background": "light"
          }
        }
      ]
    }
    
  ]
}
